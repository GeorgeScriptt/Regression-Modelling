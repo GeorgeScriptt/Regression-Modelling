{
 "cells": [
  {
   "cell_type": "markdown",
   "id": "848a156c-233c-4c55-a8e8-470203fbb014",
   "metadata": {},
   "source": [
    "# **Insurance Cost Analysis**\n",
    "\n",
    "In this project, we will conduct analytical operations on an insurance database, utilizing the parameters listed below, to develop a predictive model for estimating medical charges. The dataset used for this project is from [Kaggle](https://www.kaggle.com/datasets/harishkumardatalab/medical-insurance-price-prediction?resource=download).\n",
    "\n",
    "| Parameter |Description| Content type |\n",
    "|---|----|---|\n",
    "|age | Age in years| integer |\n",
    "|sex | Feale or Male|integer (1 or 2)|\n",
    "| bmi | Body mass index | float |\n",
    "|children| Number of children | integer|\n",
    "|smoker| Whether smoker or not | integer (1 or 0)|\n",
    "|region| Which US region - NW, NE, SW, SE | integer (1,2,3 or 4 respectively)| \n",
    "|charges| Annual Insurance charges in USD | float|\n",
    "\n",
    "## Objectives \n",
    " - Load the data as a `pandas` dataframe\n",
    " - Clean the data\n",
    " - Run exploratory data analysis (EDA) and identify the attributes that most affect the `charges`\n",
    " - Develop single variable and multi variable Linear Regression models for predicting the `charges`\n",
    " - Use Ridge regression to refine the performance of Linear regression models. \n",
    " "
   ]
  },
  {
   "cell_type": "markdown",
   "id": "726d3c38-ed4a-4c78-82e7-2036606029c2",
   "metadata": {},
   "source": [
    "### Importing Required Libraries"
   ]
  },
  {
   "cell_type": "code",
   "execution_count": 3,
   "id": "f0a9e801-dcb0-4e4a-bcf4-85cb801a371b",
   "metadata": {},
   "outputs": [],
   "source": [
    "import pandas as pd\n",
    "import numpy as np\n",
    "import matplotlib.pyplot as plt\n",
    "%matplotlib inline\n",
    "import seaborn as sns\n",
    "from sklearn.linear_model import LinearRegression, Ridge\n",
    "from sklearn.preprocessing import PolynomialFeatures, StandardScaler\n",
    "from sklearn.model_selection import train_test_split, cross_val_score\n",
    "from sklearn.metrics import r2_score, mean_squared_error\n",
    "from sklearn.pipeline import Pipeline"
   ]
  },
  {
   "cell_type": "markdown",
   "id": "6b97d88f-6a4f-4675-a1a7-6683a8d4dd43",
   "metadata": {},
   "source": [
    "# Task 1 : Importing the dataset\n",
    "\n",
    "Import dataset into a `pandas` dataframe. \n",
    "\n",
    "Print the first 10 rows of the dataframe to confirm successful loading.\n"
   ]
  },
  {
   "cell_type": "code",
   "execution_count": 5,
   "id": "a064eb68-5b9d-439d-a777-522078ac682a",
   "metadata": {},
   "outputs": [
    {
     "data": {
      "text/html": [
       "<div>\n",
       "<style scoped>\n",
       "    .dataframe tbody tr th:only-of-type {\n",
       "        vertical-align: middle;\n",
       "    }\n",
       "\n",
       "    .dataframe tbody tr th {\n",
       "        vertical-align: top;\n",
       "    }\n",
       "\n",
       "    .dataframe thead th {\n",
       "        text-align: right;\n",
       "    }\n",
       "</style>\n",
       "<table border=\"1\" class=\"dataframe\">\n",
       "  <thead>\n",
       "    <tr style=\"text-align: right;\">\n",
       "      <th></th>\n",
       "      <th>age</th>\n",
       "      <th>sex</th>\n",
       "      <th>bmi</th>\n",
       "      <th>children</th>\n",
       "      <th>smoker</th>\n",
       "      <th>region</th>\n",
       "      <th>charges</th>\n",
       "    </tr>\n",
       "  </thead>\n",
       "  <tbody>\n",
       "    <tr>\n",
       "      <th>0</th>\n",
       "      <td>19</td>\n",
       "      <td>female</td>\n",
       "      <td>27.900</td>\n",
       "      <td>0</td>\n",
       "      <td>yes</td>\n",
       "      <td>southwest</td>\n",
       "      <td>16884.92400</td>\n",
       "    </tr>\n",
       "    <tr>\n",
       "      <th>1</th>\n",
       "      <td>18</td>\n",
       "      <td>male</td>\n",
       "      <td>33.770</td>\n",
       "      <td>1</td>\n",
       "      <td>no</td>\n",
       "      <td>southeast</td>\n",
       "      <td>1725.55230</td>\n",
       "    </tr>\n",
       "    <tr>\n",
       "      <th>2</th>\n",
       "      <td>28</td>\n",
       "      <td>male</td>\n",
       "      <td>33.000</td>\n",
       "      <td>3</td>\n",
       "      <td>no</td>\n",
       "      <td>southeast</td>\n",
       "      <td>4449.46200</td>\n",
       "    </tr>\n",
       "    <tr>\n",
       "      <th>3</th>\n",
       "      <td>33</td>\n",
       "      <td>male</td>\n",
       "      <td>22.705</td>\n",
       "      <td>0</td>\n",
       "      <td>no</td>\n",
       "      <td>northwest</td>\n",
       "      <td>21984.47061</td>\n",
       "    </tr>\n",
       "    <tr>\n",
       "      <th>4</th>\n",
       "      <td>32</td>\n",
       "      <td>male</td>\n",
       "      <td>28.880</td>\n",
       "      <td>0</td>\n",
       "      <td>no</td>\n",
       "      <td>northwest</td>\n",
       "      <td>3866.85520</td>\n",
       "    </tr>\n",
       "    <tr>\n",
       "      <th>5</th>\n",
       "      <td>31</td>\n",
       "      <td>female</td>\n",
       "      <td>25.740</td>\n",
       "      <td>0</td>\n",
       "      <td>no</td>\n",
       "      <td>southeast</td>\n",
       "      <td>3756.62160</td>\n",
       "    </tr>\n",
       "    <tr>\n",
       "      <th>6</th>\n",
       "      <td>46</td>\n",
       "      <td>female</td>\n",
       "      <td>33.440</td>\n",
       "      <td>1</td>\n",
       "      <td>no</td>\n",
       "      <td>southeast</td>\n",
       "      <td>8240.58960</td>\n",
       "    </tr>\n",
       "    <tr>\n",
       "      <th>7</th>\n",
       "      <td>37</td>\n",
       "      <td>female</td>\n",
       "      <td>27.740</td>\n",
       "      <td>3</td>\n",
       "      <td>no</td>\n",
       "      <td>northwest</td>\n",
       "      <td>7281.50560</td>\n",
       "    </tr>\n",
       "    <tr>\n",
       "      <th>8</th>\n",
       "      <td>37</td>\n",
       "      <td>male</td>\n",
       "      <td>29.830</td>\n",
       "      <td>2</td>\n",
       "      <td>no</td>\n",
       "      <td>northeast</td>\n",
       "      <td>6406.41070</td>\n",
       "    </tr>\n",
       "    <tr>\n",
       "      <th>9</th>\n",
       "      <td>60</td>\n",
       "      <td>female</td>\n",
       "      <td>25.840</td>\n",
       "      <td>0</td>\n",
       "      <td>no</td>\n",
       "      <td>northwest</td>\n",
       "      <td>28923.13692</td>\n",
       "    </tr>\n",
       "  </tbody>\n",
       "</table>\n",
       "</div>"
      ],
      "text/plain": [
       "   age     sex     bmi  children smoker     region      charges\n",
       "0   19  female  27.900         0    yes  southwest  16884.92400\n",
       "1   18    male  33.770         1     no  southeast   1725.55230\n",
       "2   28    male  33.000         3     no  southeast   4449.46200\n",
       "3   33    male  22.705         0     no  northwest  21984.47061\n",
       "4   32    male  28.880         0     no  northwest   3866.85520\n",
       "5   31  female  25.740         0     no  southeast   3756.62160\n",
       "6   46  female  33.440         1     no  southeast   8240.58960\n",
       "7   37  female  27.740         3     no  northwest   7281.50560\n",
       "8   37    male  29.830         2     no  northeast   6406.41070\n",
       "9   60  female  25.840         0     no  northwest  28923.13692"
      ]
     },
     "execution_count": 5,
     "metadata": {},
     "output_type": "execute_result"
    }
   ],
   "source": [
    "file = 'Medical_insurance.csv'\n",
    "df = pd.read_csv(file)\n",
    "\n",
    "df.head(10)"
   ]
  },
  {
   "cell_type": "code",
   "execution_count": 6,
   "id": "71dc15ef-f957-47db-afc6-b161e1448d9b",
   "metadata": {},
   "outputs": [
    {
     "data": {
      "text/plain": [
       "(2772, 7)"
      ]
     },
     "execution_count": 6,
     "metadata": {},
     "output_type": "execute_result"
    }
   ],
   "source": [
    "# Shape of the dataset\n",
    "df.shape"
   ]
  },
  {
   "cell_type": "code",
   "execution_count": 7,
   "id": "142c1b86-dded-431e-8469-22adf560335e",
   "metadata": {},
   "outputs": [
    {
     "data": {
      "text/plain": [
       "age           int64\n",
       "sex          object\n",
       "bmi         float64\n",
       "children      int64\n",
       "smoker       object\n",
       "region       object\n",
       "charges     float64\n",
       "dtype: object"
      ]
     },
     "execution_count": 7,
     "metadata": {},
     "output_type": "execute_result"
    }
   ],
   "source": [
    "df.dtypes"
   ]
  },
  {
   "cell_type": "code",
   "execution_count": 8,
   "id": "eaf611c0-e29c-40c7-ba9e-b260eeb39d3e",
   "metadata": {},
   "outputs": [
    {
     "data": {
      "text/html": [
       "<div>\n",
       "<style scoped>\n",
       "    .dataframe tbody tr th:only-of-type {\n",
       "        vertical-align: middle;\n",
       "    }\n",
       "\n",
       "    .dataframe tbody tr th {\n",
       "        vertical-align: top;\n",
       "    }\n",
       "\n",
       "    .dataframe thead th {\n",
       "        text-align: right;\n",
       "    }\n",
       "</style>\n",
       "<table border=\"1\" class=\"dataframe\">\n",
       "  <thead>\n",
       "    <tr style=\"text-align: right;\">\n",
       "      <th></th>\n",
       "      <th>age</th>\n",
       "      <th>sex</th>\n",
       "      <th>bmi</th>\n",
       "      <th>children</th>\n",
       "      <th>smoker</th>\n",
       "      <th>region</th>\n",
       "      <th>charges</th>\n",
       "    </tr>\n",
       "  </thead>\n",
       "  <tbody>\n",
       "    <tr>\n",
       "      <th>count</th>\n",
       "      <td>2772.000000</td>\n",
       "      <td>2772</td>\n",
       "      <td>2772.000000</td>\n",
       "      <td>2772.000000</td>\n",
       "      <td>2772</td>\n",
       "      <td>2772</td>\n",
       "      <td>2772.000000</td>\n",
       "    </tr>\n",
       "    <tr>\n",
       "      <th>unique</th>\n",
       "      <td>NaN</td>\n",
       "      <td>2</td>\n",
       "      <td>NaN</td>\n",
       "      <td>NaN</td>\n",
       "      <td>2</td>\n",
       "      <td>4</td>\n",
       "      <td>NaN</td>\n",
       "    </tr>\n",
       "    <tr>\n",
       "      <th>top</th>\n",
       "      <td>NaN</td>\n",
       "      <td>male</td>\n",
       "      <td>NaN</td>\n",
       "      <td>NaN</td>\n",
       "      <td>no</td>\n",
       "      <td>southeast</td>\n",
       "      <td>NaN</td>\n",
       "    </tr>\n",
       "    <tr>\n",
       "      <th>freq</th>\n",
       "      <td>NaN</td>\n",
       "      <td>1406</td>\n",
       "      <td>NaN</td>\n",
       "      <td>NaN</td>\n",
       "      <td>2208</td>\n",
       "      <td>766</td>\n",
       "      <td>NaN</td>\n",
       "    </tr>\n",
       "    <tr>\n",
       "      <th>mean</th>\n",
       "      <td>39.109668</td>\n",
       "      <td>NaN</td>\n",
       "      <td>30.701349</td>\n",
       "      <td>1.101732</td>\n",
       "      <td>NaN</td>\n",
       "      <td>NaN</td>\n",
       "      <td>13261.369959</td>\n",
       "    </tr>\n",
       "    <tr>\n",
       "      <th>std</th>\n",
       "      <td>14.081459</td>\n",
       "      <td>NaN</td>\n",
       "      <td>6.129449</td>\n",
       "      <td>1.214806</td>\n",
       "      <td>NaN</td>\n",
       "      <td>NaN</td>\n",
       "      <td>12151.768945</td>\n",
       "    </tr>\n",
       "    <tr>\n",
       "      <th>min</th>\n",
       "      <td>18.000000</td>\n",
       "      <td>NaN</td>\n",
       "      <td>15.960000</td>\n",
       "      <td>0.000000</td>\n",
       "      <td>NaN</td>\n",
       "      <td>NaN</td>\n",
       "      <td>1121.873900</td>\n",
       "    </tr>\n",
       "    <tr>\n",
       "      <th>25%</th>\n",
       "      <td>26.000000</td>\n",
       "      <td>NaN</td>\n",
       "      <td>26.220000</td>\n",
       "      <td>0.000000</td>\n",
       "      <td>NaN</td>\n",
       "      <td>NaN</td>\n",
       "      <td>4687.797000</td>\n",
       "    </tr>\n",
       "    <tr>\n",
       "      <th>50%</th>\n",
       "      <td>39.000000</td>\n",
       "      <td>NaN</td>\n",
       "      <td>30.447500</td>\n",
       "      <td>1.000000</td>\n",
       "      <td>NaN</td>\n",
       "      <td>NaN</td>\n",
       "      <td>9333.014350</td>\n",
       "    </tr>\n",
       "    <tr>\n",
       "      <th>75%</th>\n",
       "      <td>51.000000</td>\n",
       "      <td>NaN</td>\n",
       "      <td>34.770000</td>\n",
       "      <td>2.000000</td>\n",
       "      <td>NaN</td>\n",
       "      <td>NaN</td>\n",
       "      <td>16577.779500</td>\n",
       "    </tr>\n",
       "    <tr>\n",
       "      <th>max</th>\n",
       "      <td>64.000000</td>\n",
       "      <td>NaN</td>\n",
       "      <td>53.130000</td>\n",
       "      <td>5.000000</td>\n",
       "      <td>NaN</td>\n",
       "      <td>NaN</td>\n",
       "      <td>63770.428010</td>\n",
       "    </tr>\n",
       "  </tbody>\n",
       "</table>\n",
       "</div>"
      ],
      "text/plain": [
       "                age   sex          bmi     children smoker     region  \\\n",
       "count   2772.000000  2772  2772.000000  2772.000000   2772       2772   \n",
       "unique          NaN     2          NaN          NaN      2          4   \n",
       "top             NaN  male          NaN          NaN     no  southeast   \n",
       "freq            NaN  1406          NaN          NaN   2208        766   \n",
       "mean      39.109668   NaN    30.701349     1.101732    NaN        NaN   \n",
       "std       14.081459   NaN     6.129449     1.214806    NaN        NaN   \n",
       "min       18.000000   NaN    15.960000     0.000000    NaN        NaN   \n",
       "25%       26.000000   NaN    26.220000     0.000000    NaN        NaN   \n",
       "50%       39.000000   NaN    30.447500     1.000000    NaN        NaN   \n",
       "75%       51.000000   NaN    34.770000     2.000000    NaN        NaN   \n",
       "max       64.000000   NaN    53.130000     5.000000    NaN        NaN   \n",
       "\n",
       "             charges  \n",
       "count    2772.000000  \n",
       "unique           NaN  \n",
       "top              NaN  \n",
       "freq             NaN  \n",
       "mean    13261.369959  \n",
       "std     12151.768945  \n",
       "min      1121.873900  \n",
       "25%      4687.797000  \n",
       "50%      9333.014350  \n",
       "75%     16577.779500  \n",
       "max     63770.428010  "
      ]
     },
     "execution_count": 8,
     "metadata": {},
     "output_type": "execute_result"
    }
   ],
   "source": [
    "# Descriptive Statistics of the dataset\n",
    "df.describe(include='all')"
   ]
  },
  {
   "cell_type": "markdown",
   "id": "fab2a85f-0c9e-4567-88bf-64e5cf9babd2",
   "metadata": {},
   "source": [
    "The dataset consists of 2,772 rows and 7 columns, with the average values for the columns age, BMI, and charges being 39, 30.701, and 13,261.369, respectively."
   ]
  },
  {
   "cell_type": "markdown",
   "id": "30fe0d6c-af14-4e63-8369-3d32a243f53e",
   "metadata": {},
   "source": [
    "# Task 2 : Data Wrangling"
   ]
  },
  {
   "cell_type": "markdown",
   "id": "cdca0fa6-fb59-4f3b-8ca0-d235b11fd9bb",
   "metadata": {},
   "source": [
    "Use `dataframe.info()` to identify the columns that have some 'Null' (or NaN) information."
   ]
  },
  {
   "cell_type": "code",
   "execution_count": 12,
   "id": "1a37935e-3acc-4a8c-a31f-0318f94edf9d",
   "metadata": {},
   "outputs": [
    {
     "name": "stdout",
     "output_type": "stream",
     "text": [
      "<class 'pandas.core.frame.DataFrame'>\n",
      "RangeIndex: 2772 entries, 0 to 2771\n",
      "Data columns (total 7 columns):\n",
      " #   Column    Non-Null Count  Dtype  \n",
      "---  ------    --------------  -----  \n",
      " 0   age       2772 non-null   int64  \n",
      " 1   sex       2772 non-null   object \n",
      " 2   bmi       2772 non-null   float64\n",
      " 3   children  2772 non-null   int64  \n",
      " 4   smoker    2772 non-null   object \n",
      " 5   region    2772 non-null   object \n",
      " 6   charges   2772 non-null   float64\n",
      "dtypes: float64(2), int64(2), object(3)\n",
      "memory usage: 151.7+ KB\n"
     ]
    }
   ],
   "source": [
    "df.info()"
   ]
  },
  {
   "cell_type": "markdown",
   "id": "f4046224-5c0e-4150-a91b-8b884beb9a6f",
   "metadata": {},
   "source": [
    "No Null values in the dataset"
   ]
  },
  {
   "cell_type": "markdown",
   "id": "1d524ccb-d658-4ef4-b23d-3f260e5ca744",
   "metadata": {},
   "source": [
    "* Replace each category in (age, smoker, and region) columns with numbers\n",
    "* Update the data type of the respective columns to integer\n",
    "* Rename the `sex` column to `gender` and `children` to `no_of_children`\n",
    "* Round up the charge attribute values to 2 decimal places\n",
    "Below is the table guide\n",
    "\n",
    "| Column | Categorical Value | Assigned Numerical Value |\n",
    "|--------|----------|-----------|\n",
    "| sex| female, male | 1, 2 respectively|\n",
    "| smoker | yes, no | 1, 0 respectively|\n",
    "| region | NW, NE, SW, SE | 1, 2, 3, 4 respectively"
   ]
  },
  {
   "cell_type": "code",
   "execution_count": 15,
   "id": "7902fa1f-0721-426d-bb14-5bd167ab042c",
   "metadata": {},
   "outputs": [
    {
     "data": {
      "text/html": [
       "<div>\n",
       "<style scoped>\n",
       "    .dataframe tbody tr th:only-of-type {\n",
       "        vertical-align: middle;\n",
       "    }\n",
       "\n",
       "    .dataframe tbody tr th {\n",
       "        vertical-align: top;\n",
       "    }\n",
       "\n",
       "    .dataframe thead th {\n",
       "        text-align: right;\n",
       "    }\n",
       "</style>\n",
       "<table border=\"1\" class=\"dataframe\">\n",
       "  <thead>\n",
       "    <tr style=\"text-align: right;\">\n",
       "      <th></th>\n",
       "      <th>age</th>\n",
       "      <th>gender</th>\n",
       "      <th>bmi</th>\n",
       "      <th>no_of_children</th>\n",
       "      <th>smoker</th>\n",
       "      <th>region</th>\n",
       "      <th>charges</th>\n",
       "    </tr>\n",
       "  </thead>\n",
       "  <tbody>\n",
       "    <tr>\n",
       "      <th>0</th>\n",
       "      <td>19</td>\n",
       "      <td>1</td>\n",
       "      <td>27.900</td>\n",
       "      <td>0</td>\n",
       "      <td>1</td>\n",
       "      <td>3</td>\n",
       "      <td>16884.92</td>\n",
       "    </tr>\n",
       "    <tr>\n",
       "      <th>1</th>\n",
       "      <td>18</td>\n",
       "      <td>2</td>\n",
       "      <td>33.770</td>\n",
       "      <td>1</td>\n",
       "      <td>0</td>\n",
       "      <td>4</td>\n",
       "      <td>1725.55</td>\n",
       "    </tr>\n",
       "    <tr>\n",
       "      <th>2</th>\n",
       "      <td>28</td>\n",
       "      <td>2</td>\n",
       "      <td>33.000</td>\n",
       "      <td>3</td>\n",
       "      <td>0</td>\n",
       "      <td>4</td>\n",
       "      <td>4449.46</td>\n",
       "    </tr>\n",
       "    <tr>\n",
       "      <th>3</th>\n",
       "      <td>33</td>\n",
       "      <td>2</td>\n",
       "      <td>22.705</td>\n",
       "      <td>0</td>\n",
       "      <td>0</td>\n",
       "      <td>1</td>\n",
       "      <td>21984.47</td>\n",
       "    </tr>\n",
       "    <tr>\n",
       "      <th>4</th>\n",
       "      <td>32</td>\n",
       "      <td>2</td>\n",
       "      <td>28.880</td>\n",
       "      <td>0</td>\n",
       "      <td>0</td>\n",
       "      <td>1</td>\n",
       "      <td>3866.86</td>\n",
       "    </tr>\n",
       "  </tbody>\n",
       "</table>\n",
       "</div>"
      ],
      "text/plain": [
       "   age  gender     bmi  no_of_children  smoker  region   charges\n",
       "0   19       1  27.900               0       1       3  16884.92\n",
       "1   18       2  33.770               1       0       4   1725.55\n",
       "2   28       2  33.000               3       0       4   4449.46\n",
       "3   33       2  22.705               0       0       1  21984.47\n",
       "4   32       2  28.880               0       0       1   3866.86"
      ]
     },
     "execution_count": 15,
     "metadata": {},
     "output_type": "execute_result"
    }
   ],
   "source": [
    "# Male and Female values replaced and the data type changed to int\n",
    "df['sex'] = df['sex'].replace({'female': '1', 'male':'2'}).astype('int64')\n",
    "\n",
    "# yes and no values replaced and the data type changed to int\n",
    "df['smoker'] = df['smoker'].replace({'yes': '1', 'no': '0'}).astype('int64')\n",
    "\n",
    "# the four region category replaced and the data type changed to int\n",
    "df['region'] = df['region'].replace({'northwest': '1', 'northeast': '2', 'southwest': '3', 'southeast': '4'}).astype('int64')\n",
    "\n",
    "# Rename column names\n",
    "df.rename(columns={'sex':'gender', 'children':'no_of_children'}, inplace=True)\n",
    "\n",
    "# charge attribute values rounded up to 2 d.p\n",
    "df[['charges']] = np.round(df[['charges']], 2)\n",
    "\n",
    "# print first rows to confirm our changes\n",
    "df.head()"
   ]
  },
  {
   "cell_type": "markdown",
   "id": "4d98816c-b57d-4cd8-aade-00e8ec5a560c",
   "metadata": {},
   "source": [
    "# Task 3 : Exploratory Data Analysis (EDA)"
   ]
  },
  {
   "cell_type": "markdown",
   "id": "320ce8ba-ac09-4cf7-9db0-07a61b915a33",
   "metadata": {},
   "source": [
    "Using Visuals to explore our data"
   ]
  },
  {
   "cell_type": "code",
   "execution_count": 18,
   "id": "74434017-740c-45eb-9e16-5f1adf77faaa",
   "metadata": {},
   "outputs": [
    {
     "data": {
      "text/plain": [
       "Text(0.5, 1.0, 'Age vs Charges')"
      ]
     },
     "execution_count": 18,
     "metadata": {},
     "output_type": "execute_result"
    },
    {
     "data": {
      "image/png": "[encoded data removed]",
      "text/plain": [
       "<Figure size 1200x600 with 2 Axes>"
      ]
     },
     "metadata": {},
     "output_type": "display_data"
    }
   ],
   "source": [
    "# Scatter plot to visualize charges with respect to age and bmi\n",
    "fig, axs = plt.subplots(1, 2, figsize=(12, 6))\n",
    "\n",
    "reg_line = {'color': 'red'}\n",
    "sns.regplot(x='bmi', y='charges', data=df, line_kws=reg_line, ax=axs[0])\n",
    "axs[0].set_title('BMI vs Charges')\n",
    "\n",
    "sns.regplot(x='age', y='charges', data=df, line_kws=reg_line, ax=axs[1])\n",
    "axs[1].set_title('Age vs Charges')"
   ]
  },
  {
   "cell_type": "code",
   "execution_count": 19,
   "id": "aad4645b-7563-4cd9-a55a-b23974215a2d",
   "metadata": {},
   "outputs": [
    {
     "data": {
      "image/png": "[encoded data removed]",
      "text/plain": [
       "<Figure size 1000x800 with 4 Axes>"
      ]
     },
     "metadata": {},
     "output_type": "display_data"
    }
   ],
   "source": [
    "# Box plot to visualize charges with respect to our initially categorical attributes (gender, smoker, region)\n",
    "fig1, axs1 = plt.subplots(2, 2, figsize=(10, 8))\n",
    "\n",
    "sns.boxplot(x='smoker', y='charges', data=df, ax=axs1[0,0])\n",
    "axs1[0,0].set_title('Smoker vs Charges')\n",
    "\n",
    "sns.boxplot(x='gender', y='charges', data=df, ax=axs1[0,1])\n",
    "axs1[0,1].set_title('Gender vs Charges')\n",
    "\n",
    "sns.boxplot(x='region', y='charges', data=df, ax=axs1[1,0])\n",
    "axs1[1,0].set_title('Region vs Charges')\n",
    "\n",
    "axs1[1,1].axis('off')\n",
    "\n",
    "plt.tight_layout(pad=4.0)"
   ]
  },
  {
   "cell_type": "markdown",
   "id": "3237e35b-94a7-4fe6-8216-8882b0830d20",
   "metadata": {},
   "source": [
    "Let's check the strength and direction of the linear relationship between the variables"
   ]
  },
  {
   "cell_type": "code",
   "execution_count": 21,
   "id": "47f2356b-929a-48dc-84bf-905fb0c6b390",
   "metadata": {},
   "outputs": [
    {
     "data": {
      "text/html": [
       "<div>\n",
       "<style scoped>\n",
       "    .dataframe tbody tr th:only-of-type {\n",
       "        vertical-align: middle;\n",
       "    }\n",
       "\n",
       "    .dataframe tbody tr th {\n",
       "        vertical-align: top;\n",
       "    }\n",
       "\n",
       "    .dataframe thead th {\n",
       "        text-align: right;\n",
       "    }\n",
       "</style>\n",
       "<table border=\"1\" class=\"dataframe\">\n",
       "  <thead>\n",
       "    <tr style=\"text-align: right;\">\n",
       "      <th></th>\n",
       "      <th>age</th>\n",
       "      <th>gender</th>\n",
       "      <th>bmi</th>\n",
       "      <th>no_of_children</th>\n",
       "      <th>smoker</th>\n",
       "      <th>region</th>\n",
       "      <th>charges</th>\n",
       "    </tr>\n",
       "  </thead>\n",
       "  <tbody>\n",
       "    <tr>\n",
       "      <th>age</th>\n",
       "      <td>1.000000</td>\n",
       "      <td>-0.026046</td>\n",
       "      <td>0.113048</td>\n",
       "      <td>0.037574</td>\n",
       "      <td>-0.023286</td>\n",
       "      <td>-0.007167</td>\n",
       "      <td>0.298624</td>\n",
       "    </tr>\n",
       "    <tr>\n",
       "      <th>gender</th>\n",
       "      <td>-0.026046</td>\n",
       "      <td>1.000000</td>\n",
       "      <td>0.042924</td>\n",
       "      <td>0.016020</td>\n",
       "      <td>0.082326</td>\n",
       "      <td>0.022213</td>\n",
       "      <td>0.062837</td>\n",
       "    </tr>\n",
       "    <tr>\n",
       "      <th>bmi</th>\n",
       "      <td>0.113048</td>\n",
       "      <td>0.042924</td>\n",
       "      <td>1.000000</td>\n",
       "      <td>-0.001492</td>\n",
       "      <td>0.011489</td>\n",
       "      <td>0.271119</td>\n",
       "      <td>0.199846</td>\n",
       "    </tr>\n",
       "    <tr>\n",
       "      <th>no_of_children</th>\n",
       "      <td>0.037574</td>\n",
       "      <td>0.016020</td>\n",
       "      <td>-0.001492</td>\n",
       "      <td>1.000000</td>\n",
       "      <td>0.006362</td>\n",
       "      <td>-0.025717</td>\n",
       "      <td>0.066442</td>\n",
       "    </tr>\n",
       "    <tr>\n",
       "      <th>smoker</th>\n",
       "      <td>-0.023286</td>\n",
       "      <td>0.082326</td>\n",
       "      <td>0.011489</td>\n",
       "      <td>0.006362</td>\n",
       "      <td>1.000000</td>\n",
       "      <td>0.054077</td>\n",
       "      <td>0.788783</td>\n",
       "    </tr>\n",
       "    <tr>\n",
       "      <th>region</th>\n",
       "      <td>-0.007167</td>\n",
       "      <td>0.022213</td>\n",
       "      <td>0.271119</td>\n",
       "      <td>-0.025717</td>\n",
       "      <td>0.054077</td>\n",
       "      <td>1.000000</td>\n",
       "      <td>0.054058</td>\n",
       "    </tr>\n",
       "    <tr>\n",
       "      <th>charges</th>\n",
       "      <td>0.298624</td>\n",
       "      <td>0.062837</td>\n",
       "      <td>0.199846</td>\n",
       "      <td>0.066442</td>\n",
       "      <td>0.788783</td>\n",
       "      <td>0.054058</td>\n",
       "      <td>1.000000</td>\n",
       "    </tr>\n",
       "  </tbody>\n",
       "</table>\n",
       "</div>"
      ],
      "text/plain": [
       "                     age    gender       bmi  no_of_children    smoker  \\\n",
       "age             1.000000 -0.026046  0.113048        0.037574 -0.023286   \n",
       "gender         -0.026046  1.000000  0.042924        0.016020  0.082326   \n",
       "bmi             0.113048  0.042924  1.000000       -0.001492  0.011489   \n",
       "no_of_children  0.037574  0.016020 -0.001492        1.000000  0.006362   \n",
       "smoker         -0.023286  0.082326  0.011489        0.006362  1.000000   \n",
       "region         -0.007167  0.022213  0.271119       -0.025717  0.054077   \n",
       "charges         0.298624  0.062837  0.199846        0.066442  0.788783   \n",
       "\n",
       "                  region   charges  \n",
       "age            -0.007167  0.298624  \n",
       "gender          0.022213  0.062837  \n",
       "bmi             0.271119  0.199846  \n",
       "no_of_children -0.025717  0.066442  \n",
       "smoker          0.054077  0.788783  \n",
       "region          1.000000  0.054058  \n",
       "charges         0.054058  1.000000  "
      ]
     },
     "execution_count": 21,
     "metadata": {},
     "output_type": "execute_result"
    }
   ],
   "source": [
    "df.corr()"
   ]
  },
  {
   "cell_type": "markdown",
   "id": "034231ea-26ee-451d-a23d-c5e0e125ec9d",
   "metadata": {},
   "source": [
    "The analysis of the relationship between independent variables and medical charges using Pearson correlation shows that `smoker` is the most influential factor, with a strong positive correlation of 0.788783. This suggests that smoking is strongly associated with higher medical charges due to increased health risks. `Age` and `BMI` also have positive correlations with charges, but their relationships are weaker than that of smoking.\n",
    "The Pearson correlation values of 0.062837 for `gender` and 0.054058 for `region` with respect to medical charges suggest a very weak positive relationship between these variables and charges. In practical terms, this means that there is almost no linear relationship between gender, region, and medical charges. Since the values are very close to 0, it indicates that gender and region have little effect to no effect on the medical charges."
   ]
  },
  {
   "cell_type": "markdown",
   "id": "63c5d5ac-2c59-4988-a0b8-2fbab300c925",
   "metadata": {},
   "source": [
    "# Task 4 : Model Development"
   ]
  },
  {
   "cell_type": "markdown",
   "id": "64e6a973-d1af-4f36-a32c-040d0edf142c",
   "metadata": {},
   "source": [
    "In this section, we will develop a predictive model aimed at forecasting `charges`, a continuous variable. Given the nature of the target variable, a linear regression model is the most appropriate choice. We will implement both Simple Linear Regression (SLR) and Multiple Linear Regression (MLR), in addition to a Polynomial Regression model with multiple independent variables."
   ]
  },
  {
   "cell_type": "markdown",
   "id": "7b7c0480-1e62-4101-9917-1fe64e24b2e0",
   "metadata": {},
   "source": [
    "### Simple Linear Reression"
   ]
  },
  {
   "cell_type": "markdown",
   "id": "4fb0eb2a-762c-4070-8a80-e87f30e774b7",
   "metadata": {},
   "source": [
    "We will use `smoker` as the independent variable to fit a linear regression model and evaluate its performance using metrics such as the Coefficient of Determination ( R^2 )  and Mean Squared Error (MSE)."
   ]
  },
  {
   "cell_type": "code",
   "execution_count": 27,
   "id": "39115d36-85b2-4fdf-987b-79b992418b8c",
   "metadata": {},
   "outputs": [
    {
     "name": "stdout",
     "output_type": "stream",
     "text": [
      "The R Squared value of the model is 0.6221791733924185 and the Mean Squared Error is 55770970.49293007\n"
     ]
    }
   ],
   "source": [
    "# Define our independent and target variable\n",
    "x = df[['smoker']]\n",
    "y = df['charges']\n",
    "\n",
    "# Define a linear regression object and fit the model\n",
    "lm = LinearRegression()\n",
    "lm.fit(x, y)\n",
    "\n",
    "# Produce the prediction \n",
    "yhat = lm.predict(x)\n",
    "\n",
    "# Evaluate the model\n",
    "r2 = lm.score(x, y)\n",
    "mse = mean_squared_error(y, yhat)\n",
    "print(f'The R Squared value of the model is {r2} and the Mean Squared Error is {mse}')"
   ]
  },
  {
   "cell_type": "markdown",
   "id": "d9650ed8-c834-4284-98d2-a982c90126d3",
   "metadata": {},
   "source": [
    "### Multiple Linear Regression"
   ]
  },
  {
   "cell_type": "code",
   "execution_count": 29,
   "id": "027f8d54-ca31-4057-9752-084cd7e1a0d0",
   "metadata": {},
   "outputs": [
    {
     "name": "stdout",
     "output_type": "stream",
     "text": [
      "The R Squared value of the model is 0.7504083820289634 and the Mean Squared Error is 36842772.50180054\n"
     ]
    }
   ],
   "source": [
    "# Define the independent variables\n",
    "z = df[['age', 'gender', 'bmi', 'no_of_children', 'smoker', 'region']]\n",
    "\n",
    "# Fit the model\n",
    "lm.fit(z, y) \n",
    "\n",
    "# Produce the prediction\n",
    "yhat_mult = lm.predict(z)\n",
    "\n",
    "# Evaluate the model\n",
    "r2_mult = lm.score(z, y)\n",
    "mse_mult = mean_squared_error(y, yhat_mult)\n",
    "print(f'The R Squared value of the model is {r2_mult} and the Mean Squared Error is {mse_mult}')"
   ]
  },
  {
   "cell_type": "markdown",
   "id": "50156c01-d794-4cc7-983b-0e97f17b1874",
   "metadata": {},
   "source": [
    "### Polynomial Regression"
   ]
  },
  {
   "cell_type": "markdown",
   "id": "047b92e0-2857-4185-9fe2-e95140c6bb10",
   "metadata": {},
   "source": [
    "Since we are working with multiple independent variables, we will use the `PolynomialFeatures()` function from the Scikit-learn library to transform our data into a polynomial form\n",
    "\n",
    "Lets further create a training pipeline that uses `StandardScaler()` for data normalization, `PolynomialFeatures()` for transforming our data into a polynomial, and `LinerRegression()` to create a model that can predict the charges value."
   ]
  },
  {
   "cell_type": "code",
   "execution_count": 32,
   "id": "bbe7f084-c6a9-4050-9115-af9e0a6abb2c",
   "metadata": {},
   "outputs": [
    {
     "name": "stdout",
     "output_type": "stream",
     "text": [
      "The R Squared value of the model is 0.8452576213500093 and the Mean Squared Error is 22841865.842027858\n"
     ]
    }
   ],
   "source": [
    "# Create the list of tuples\n",
    "input = [('polynomial', PolynomialFeatures(degree=2)), ('scale', StandardScaler()), ('model', LinearRegression())]\n",
    "\n",
    "# Input the list in the pipline constructor\n",
    "pipe = Pipeline(input)\n",
    "\n",
    "# Convert the independent variables to float to avoid conversion warning \n",
    "Z = z.astype('float')\n",
    "\n",
    "# Fit the pipe object and produce the prediction\n",
    "pipe.fit(Z, y)\n",
    "yhat_pipe = pipe.predict(Z)\n",
    "\n",
    "# Evaluate\n",
    "r2_pipe = r2_score(y, yhat_pipe)\n",
    "mse_pipe = mean_squared_error(y, yhat_pipe)\n",
    "print(f'The R Squared value of the model is {r2_pipe} and the Mean Squared Error is {mse_pipe}')"
   ]
  },
  {
   "cell_type": "markdown",
   "id": "ce281343-81e8-4d57-bd10-d91bbdf7a4e2",
   "metadata": {},
   "source": [
    "Comparing the three models, we can clearly see\n",
    "\n",
    "The second-order polynomial regression outperforms both Simple Linear Regression (SLR) and Multiple Linear Regression (MLR) in terms of both the coefficient of determination (R²) and Mean Squared Error (MSE). It explains 84.5% of the variance (highest R²) and has the lowest MSE, indicating the most accurate predictions. MLR shows improvement over SLR, with a higher R² and lower MSE, but the second-order polynomial model is the best overall, offering the best fit and most accurate predictions."
   ]
  },
  {
   "cell_type": "markdown",
   "id": "b2bc0fee-cd25-4dfe-805b-bfdebee29560",
   "metadata": {},
   "source": [
    "# Task 5 : Model Refinement"
   ]
  },
  {
   "cell_type": "markdown",
   "id": "893c86c6-079a-4790-bf07-5b50f78d9693",
   "metadata": {},
   "source": [
    "In the final section, we will enhance the model's performance for real-world applications by splitting the dataset into training and testing sets, followed by tuning the model using the hyperparameter (alpha). "
   ]
  },
  {
   "cell_type": "markdown",
   "id": "bcb37818-2340-41b8-af29-bcd04dfefa5f",
   "metadata": {},
   "source": [
    "Let's divide our dataset and allocate 20% of it as the test data."
   ]
  },
  {
   "cell_type": "code",
   "execution_count": 37,
   "id": "e85dc5df-6ab2-4b81-8dd0-815603e74740",
   "metadata": {},
   "outputs": [],
   "source": [
    "x_train, x_test, y_train, y_test = train_test_split(Z, y, test_size=0.2, random_state=1)"
   ]
  },
  {
   "cell_type": "markdown",
   "id": "a22dd8b8-d510-4f9f-a64a-cb425d745ee7",
   "metadata": {},
   "source": [
    "Initialize a Ridge regressor that use hyperparameter $ \\alpha = 0.1 $. Fit the model and calculate the $ R^2 $ score of the model"
   ]
  },
  {
   "cell_type": "code",
   "execution_count": 39,
   "id": "e0b5ff05-94b6-487d-9b4e-655e5777a9af",
   "metadata": {},
   "outputs": [
    {
     "name": "stdout",
     "output_type": "stream",
     "text": [
      "The R Squared value of the model is 0.6760807731582404 and the Mean Squared Error is 42688122.83962131\n"
     ]
    }
   ],
   "source": [
    "Ridge_model = Ridge(alpha=0.1)\n",
    "\n",
    "# Fit the model and produce prediction\n",
    "Ridge_model.fit(x_train, y_train)\n",
    "yhat_ridge = Ridge_model.predict(x_test)\n",
    "\n",
    "# Evaluate the model\n",
    "r2_ridge = r2_score(y_test, yhat_ridge)\n",
    "mse_ridge = mean_squared_error(y_test, yhat_ridge)\n",
    "print(f'The R Squared value of the model is {r2_ridge} and the Mean Squared Error is {mse_ridge}')"
   ]
  },
  {
   "cell_type": "markdown",
   "id": "b8d203dc-71d1-494c-8aaa-61d48e3355ee",
   "metadata": {},
   "source": [
    "Lets apply a polynomial transformation to the training parameters with degree=2"
   ]
  },
  {
   "cell_type": "code",
   "execution_count": 41,
   "id": "3b3a1bc1-1aff-45c2-9b71-46546482e2d8",
   "metadata": {},
   "outputs": [
    {
     "name": "stdout",
     "output_type": "stream",
     "text": [
      "The R Squared value of the model is 0.7835631107608153 and the Mean Squared Error is 28523421.116281528\n"
     ]
    }
   ],
   "source": [
    "# Transform the training and test data sets\n",
    "polly = PolynomialFeatures(degree=2)\n",
    "x_train_pr = polly.fit_transform(x_train)\n",
    "x_test_pr = polly.fit_transform(x_test)\n",
    "\n",
    "# Fit the model and produce prediction\n",
    "Ridge_model.fit(x_train_pr, y_train)\n",
    "yhat_pr = Ridge_model.predict(x_test_pr)\n",
    "\n",
    "# Evaluate the model\n",
    "r2_pr = r2_score(y_test, yhat_pr)\n",
    "mse_pr = mean_squared_error(y_test, yhat_pr)\n",
    "print(f'The R Squared value of the model is {r2_pr} and the Mean Squared Error is {mse_pr}')"
   ]
  },
  {
   "cell_type": "markdown",
   "id": "ba707d7f-6872-487e-8c42-0d43bec78122",
   "metadata": {},
   "source": [
    "The second Ridge regression model, which uses a second-order polynomial transformation, outperforms the first model. It has a higher coefficient of determination (R² = 0.784 vs. 0.676), indicating it explains more of the variance in the data. Additionally, its mean squared error (MSE = 28,523,421.12 vs. 42,688,122.84) is lower, suggesting more accurate predictions. Overall, the second model provides a better fit and reduces prediction error compared to the first."
   ]
  },
  {
   "cell_type": "markdown",
   "id": "b55de07f-dd00-4f14-b1a0-6e8567b0a38b",
   "metadata": {},
   "source": [
    "# Author\n",
    "[George E. Onwughalu](https://www.linkedin.com/in/george-onwughalu-04b957309?lipi=urn%3Ali%3Apage%3Ad_flagship3_profile_view_base_contact_details%3BqzuKclPYR8aYAxM%2Bwkp0%2Bw%3D%3D)"
   ]
  }
 ],
 "metadata": {
  "kernelspec": {
   "display_name": "Python 3 (ipykernel)",
   "language": "python",
   "name": "python3"
  },
  "language_info": {
   "codemirror_mode": {
    "name": "ipython",
    "version": 3
   },
   "file_extension": ".py",
   "mimetype": "text/x-python",
   "name": "python",
   "nbconvert_exporter": "python",
   "pygments_lexer": "ipython3",
   "version": "3.11.7"
  }
 },
 "nbformat": 4,
 "nbformat_minor": 5
}
